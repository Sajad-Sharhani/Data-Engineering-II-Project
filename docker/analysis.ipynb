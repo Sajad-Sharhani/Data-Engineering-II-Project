{
 "cells": [
  {
   "cell_type": "code",
   "execution_count": 2,
   "id": "77cbaef6",
   "metadata": {},
   "outputs": [],
   "source": [
    "from pymongo import MongoClient"
   ]
  },
  {
   "cell_type": "code",
   "execution_count": 32,
   "id": "ac706388",
   "metadata": {},
   "outputs": [],
   "source": [
    "client = MongoClient('localhost', 27017)  # Adjust parameters if necessary"
   ]
  },
  {
   "cell_type": "code",
   "execution_count": 5,
   "id": "5d2a60df",
   "metadata": {},
   "outputs": [],
   "source": [
    "db = client['github']  # Replace with your database name"
   ]
  },
  {
   "cell_type": "code",
   "execution_count": 33,
   "id": "60473b9e",
   "metadata": {},
   "outputs": [],
   "source": [
    "collection = db['repository']  # Replace with your collection name"
   ]
  },
  {
   "cell_type": "code",
   "execution_count": 80,
   "id": "07a58069",
   "metadata": {},
   "outputs": [
    {
     "name": "stdout",
     "output_type": "stream",
     "text": [
      "#Occurances\tLanguage\n",
      "------------------------\n",
      "82\t\tPython\n",
      "55\t\tJavaScript\n",
      "40\t\tTypeScript\n",
      "24\t\tHTML\n",
      "20\t\tRust\n",
      "19\t\tC\n",
      "19\t\tGo\n",
      "18\t\tJava\n",
      "18\t\tC++\n",
      "18\t\tC#\n"
     ]
    }
   ],
   "source": [
    "program_languages = {}\n",
    "data = collection.find()\n",
    "\n",
    "for x in data:\n",
    "    if x['language'] not in program_languages:\n",
    "        program_languages[f\"{x['language']}\"] = 1\n",
    "    else:\n",
    "        program_languages[f\"{x['language']}\"] += 1\n",
    "\n",
    "\n",
    "sorted_list = sorted(program_languages.items(), key = lambda x:x[1], reverse = True)\n",
    "\n",
    "list_length = 10\n",
    "\n",
    "\n",
    "print(\"#Occurances\\tLanguage\")\n",
    "print(\"------------------------\")\n",
    "for (a,b) in sorted_list[:list_length]:\n",
    "    print(f\"{b}\\t\\t{a}\")"
   ]
  },
  {
   "cell_type": "code",
   "execution_count": 81,
   "id": "7279e7d4",
   "metadata": {},
   "outputs": [
    {
     "name": "stdout",
     "output_type": "stream",
     "text": [
      "#Commits\tLanguage\n",
      "------------------------\n",
      "39909\t\tStarManiaKG/The-Story-of-Uncapped-Revengence-Discord-the-3rd\n",
      "31313\t\tcentreon/centreon\n",
      "27854\t\ttezos/tezos-mirror\n",
      "15661\t\tMetaMask/metamask-desktop\n",
      "2114\t\tAzure-Samples/distributed-az-edge-framework\n",
      "1920\t\tbetsee/betse\n",
      "1786\t\tAira-Sakuranomiya/Dress-Backup-Detached\n",
      "1440\t\tku-nlp/kwja\n",
      "1313\t\tvanillabrain/vanillameta\n",
      "1195\t\tvbukoev/Csharp-Education\n"
     ]
    }
   ],
   "source": [
    "project_commits = {}\n",
    "data = collection.find()\n",
    "\n",
    "for x in data:\n",
    "    if x['name'] not in project_commits:\n",
    "        project_commits[f\"{x['name']}\"] = x['commits']\n",
    "\n",
    "sorted_list = sorted(project_commits.items(), key = lambda x:x[1], reverse = True)\n",
    "\n",
    "print(\"#Commits\\tLanguage\")\n",
    "print(\"------------------------\")\n",
    "for (a,b) in sorted_list[:list_length]:\n",
    "    print(f\"{b}\\t\\t{a}\")"
   ]
  },
  {
   "cell_type": "code",
   "execution_count": 82,
   "id": "1ab39a2a",
   "metadata": {
    "scrolled": true
   },
   "outputs": [
    {
     "name": "stdout",
     "output_type": "stream",
     "text": [
      "#Test Driven\tLanguage\n",
      "------------------------\n",
      "13\t\tPython\n",
      "5\t\tJavaScript\n",
      "4\t\tTypeScript\n",
      "4\t\tC++\n",
      "4\t\tRust\n",
      "4\t\tRuby\n",
      "3\t\tC\n",
      "2\t\tGo\n",
      "2\t\tR\n",
      "2\t\tDart\n"
     ]
    }
   ],
   "source": [
    "test_driven = {}\n",
    "data = collection.find()\n",
    "\n",
    "for x in data:\n",
    "    if x['language'] not in test_driven:\n",
    "        test_driven[f\"{x['language']}\"] = 0\n",
    "        test_driven[f\"{x['language']}\"] += x['has_tests']\n",
    "    else:\n",
    "        test_driven[f\"{x['language']}\"] += x['has_tests']\n",
    "\n",
    "sorted_list = sorted(test_driven.items(), key = lambda x:x[1], reverse = True)\n",
    "\n",
    "print(\"#Test Driven\\tLanguage\")\n",
    "print(\"------------------------\")\n",
    "for (a,b) in sorted_list[:list_length]:\n",
    "    print(f\"{b}\\t\\t{a}\")"
   ]
  },
  {
   "cell_type": "code",
   "execution_count": 83,
   "id": "89775933",
   "metadata": {},
   "outputs": [
    {
     "name": "stdout",
     "output_type": "stream",
     "text": [
      "#Test Driven and DevOps \tLanguage\n",
      "----------------------------------------\n",
      "2\t\t\t\tRust\n",
      "1\t\t\t\tJavaScript\n",
      "1\t\t\t\tTypeScript\n",
      "1\t\t\t\tJulia\n",
      "0\t\t\t\tPython\n",
      "0\t\t\t\tPHP\n",
      "0\t\t\t\tC\n",
      "0\t\t\t\tHTML\n",
      "0\t\t\t\tNim\n",
      "0\t\t\t\tJava\n"
     ]
    }
   ],
   "source": [
    "test_driven_and_cicd = {}\n",
    "data = collection.find()\n",
    "\n",
    "for x in data:\n",
    "    if x['language'] not in test_driven_and_cicd:\n",
    "        test_driven_and_cicd[f\"{x['language']}\"] = 0\n",
    "        \n",
    "    if x['has_tests'] == 1 and x['has_ci_cd'] == 1:\n",
    "        test_driven_and_cicd[f\"{x['language']}\"] += 1\n",
    "    \n",
    "sorted_list = sorted(test_driven_and_cicd.items(), key = lambda x:x[1], reverse = True)\n",
    "\n",
    "print(\"#Test Driven and DevOps \\tLanguage\")\n",
    "print(\"----------------------------------------\")\n",
    "for (a,b) in sorted_list[:list_length]:\n",
    "    print(f\"{b}\\t\\t\\t\\t{a}\")"
   ]
  }
 ],
 "metadata": {
  "kernelspec": {
   "display_name": "Python 3 (ipykernel)",
   "language": "python",
   "name": "python3"
  },
  "language_info": {
   "codemirror_mode": {
    "name": "ipython",
    "version": 3
   },
   "file_extension": ".py",
   "mimetype": "text/x-python",
   "name": "python",
   "nbconvert_exporter": "python",
   "pygments_lexer": "ipython3",
   "version": "3.10.6"
  }
 },
 "nbformat": 4,
 "nbformat_minor": 5
}
