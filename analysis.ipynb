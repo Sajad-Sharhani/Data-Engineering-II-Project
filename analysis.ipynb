{
 "cells": [
  {
   "cell_type": "code",
   "execution_count": 2,
   "id": "77cbaef6",
   "metadata": {},
   "outputs": [],
   "source": [
    "from pymongo import MongoClient"
   ]
  },
  {
   "cell_type": "code",
   "execution_count": 32,
   "id": "ac706388",
   "metadata": {},
   "outputs": [],
   "source": [
    "client = MongoClient('localhost', 27017)  # Adjust parameters if necessary"
   ]
  },
  {
   "cell_type": "code",
   "execution_count": 5,
   "id": "5d2a60df",
   "metadata": {},
   "outputs": [],
   "source": [
    "db = client['github']  # Replace with your database name"
   ]
  },
  {
   "cell_type": "code",
   "execution_count": 33,
   "id": "60473b9e",
   "metadata": {},
   "outputs": [],
   "source": [
    "collection = db['repository']  # Replace with your collection name"
   ]
  },
  {
   "cell_type": "code",
   "execution_count": 31,
   "id": "07a58069",
   "metadata": {},
   "outputs": [
    {
     "name": "stdout",
     "output_type": "stream",
     "text": [
      "[('Python', 82), ('JavaScript', 55), ('TypeScript', 40), ('HTML', 24), ('Rust', 20), ('C', 19), ('Go', 19), ('Java', 18), ('C++', 18), ('C#', 18), ('Jupyter Notebook', 16), ('PHP', 11), ('Shell', 10), ('Dart', 7), ('Kotlin', 5), ('R', 5), ('Vue', 4), ('Ruby', 4), ('Swift', 4), ('PowerShell', 4), ('SCSS', 3), ('Lua', 3), ('CSS', 3), ('Julia', 3), ('Nix', 2), ('Svelte', 2), ('HCL', 2), ('OCaml', 2), ('GDScript', 2), ('Haskell', 2), ('Nim', 1), ('CMake', 1), ('None', 1), ('Standard ML', 1), ('Stata', 1), ('VBScript', 1), ('YARA', 1), ('Rich Text Format', 1), ('hoon', 1), ('Move', 1), ('Assembly', 1), ('MoonScript', 1), ('Solidity', 1), ('GLSL', 1), ('Clojure', 1), ('PLpgSQL', 1), ('Smarty', 1), ('Crystal', 1), ('QML', 1), ('TeX', 1)]\n"
     ]
    }
   ],
   "source": [
    "program_languages = {}\n",
    "data = collection.find()\n",
    "\n",
    "for x in data:\n",
    "    if x['language'] not in program_languages:\n",
    "        program_languages[f\"{x['language']}\"] = 1\n",
    "    else:\n",
    "        program_languages[f\"{x['language']}\"] += 1\n",
    "\n",
    "\n",
    "sorted_list = sorted(program_languages.items(), key = lambda x:x[1], reverse = True)\n",
    "\n",
    "print(sorted_list)"
   ]
  },
  {
   "cell_type": "code",
   "execution_count": null,
   "id": "7279e7d4",
   "metadata": {},
   "outputs": [],
   "source": []
  }
 ],
 "metadata": {
  "kernelspec": {
   "display_name": "Python 3 (ipykernel)",
   "language": "python",
   "name": "python3"
  },
  "language_info": {
   "codemirror_mode": {
    "name": "ipython",
    "version": 3
   },
   "file_extension": ".py",
   "mimetype": "text/x-python",
   "name": "python",
   "nbconvert_exporter": "python",
   "pygments_lexer": "ipython3",
   "version": "3.10.6"
  }
 },
 "nbformat": 4,
 "nbformat_minor": 5
}
