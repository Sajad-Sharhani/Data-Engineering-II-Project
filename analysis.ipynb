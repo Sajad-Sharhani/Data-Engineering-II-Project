{
 "cells": [
  {
   "cell_type": "code",
   "execution_count": 2,
   "id": "77cbaef6",
   "metadata": {},
   "outputs": [],
   "source": [
    "from pymongo import MongoClient"
   ]
  },
  {
   "cell_type": "code",
   "execution_count": 32,
   "id": "ac706388",
   "metadata": {},
   "outputs": [],
   "source": [
    "client = MongoClient('localhost', 27017)  # Adjust parameters if necessary"
   ]
  },
  {
   "cell_type": "code",
   "execution_count": 5,
   "id": "5d2a60df",
   "metadata": {},
   "outputs": [],
   "source": [
    "db = client['github']  # Replace with your database name"
   ]
  },
  {
   "cell_type": "code",
   "execution_count": 33,
   "id": "60473b9e",
   "metadata": {},
   "outputs": [],
   "source": [
    "collection = db['repository']  # Replace with your collection name"
   ]
  },
  {
   "cell_type": "code",
   "execution_count": 41,
   "id": "07a58069",
   "metadata": {},
   "outputs": [
    {
     "name": "stdout",
     "output_type": "stream",
     "text": [
      "#Occurances\tLanguage\n",
      "------------------------\n",
      "82\t\tPython\n",
      "55\t\tJavaScript\n",
      "40\t\tTypeScript\n",
      "24\t\tHTML\n",
      "20\t\tRust\n",
      "19\t\tC\n",
      "19\t\tGo\n",
      "18\t\tJava\n",
      "18\t\tC++\n",
      "18\t\tC#\n"
     ]
    }
   ],
   "source": [
    "program_languages = {}\n",
    "data = collection.find()\n",
    "\n",
    "for x in data:\n",
    "    if x['language'] not in program_languages:\n",
    "        program_languages[f\"{x['language']}\"] = 1\n",
    "    else:\n",
    "        program_languages[f\"{x['language']}\"] += 1\n",
    "\n",
    "\n",
    "sorted_list = sorted(program_languages.items(), key = lambda x:x[1], reverse = True)\n",
    "\n",
    "\n",
    "print(\"#Occurances\\tLanguage\")\n",
    "print(\"------------------------\")\n",
    "for (a,b) in sorted_list[:10]:\n",
    "    print(f\"{b}\\t\\t{a}\")"
   ]
  },
  {
   "cell_type": "code",
   "execution_count": null,
   "id": "7279e7d4",
   "metadata": {},
   "outputs": [],
   "source": []
  }
 ],
 "metadata": {
  "kernelspec": {
   "display_name": "Python 3 (ipykernel)",
   "language": "python",
   "name": "python3"
  },
  "language_info": {
   "codemirror_mode": {
    "name": "ipython",
    "version": 3
   },
   "file_extension": ".py",
   "mimetype": "text/x-python",
   "name": "python",
   "nbconvert_exporter": "python",
   "pygments_lexer": "ipython3",
   "version": "3.10.6"
  }
 },
 "nbformat": 4,
 "nbformat_minor": 5
}
